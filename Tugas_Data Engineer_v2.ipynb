{
 "cells": [
  {
   "cell_type": "code",
   "execution_count": 1,
   "metadata": {},
   "outputs": [],
   "source": [
    "# import the necessary library for web scraping\n",
    "from urllib.request import urlopen\n",
    "from bs4 import BeautifulSoup\n",
    "import pandas as pd"
   ]
  },
  {
   "cell_type": "code",
   "execution_count": 2,
   "metadata": {},
   "outputs": [],
   "source": [
    "# access the designated link and create soup object for parsing the html data\n",
    "url = \"https://www.pikiran-rakyat.com/\"\n",
    "page = urlopen(url)\n",
    "html = page.read().decode(\"utf-8\")\n",
    "soup = BeautifulSoup(html, \"html.parser\")"
   ]
  },
  {
   "cell_type": "code",
   "execution_count": 3,
   "metadata": {},
   "outputs": [],
   "source": [
    "# create list and assign the parsed data to the list\n",
    "populer_artikel=[]\n",
    "for article in soup.find_all('a', href=True, attrs={'class':'most__link'}):\n",
    "    judul=article.find('h2', attrs={'class':'most__title'})\n",
    "    populer_artikel.append(judul.text)"
   ]
  },
  {
   "cell_type": "code",
   "execution_count": 4,
   "metadata": {},
   "outputs": [
    {
     "name": "stdout",
     "output_type": "stream",
     "text": [
      "['Niat Puasa Tasua dan Asyura 7-8 Agustus 2022, Lengkap dengan Tata Cara dan Keutamaannya', 'Bung Binder Komentari Persib Bandung: Materi Pemain Istimewa tapi Permainan Gak Ada Istimewanya', 'Niat Puasa Tasua dan Asyura, Lengkap dengan Jadwal Puasa di Bulan Muharram 2022', \"Viral! Situs Pencarian Karya Anak Bangsa Bernama 'GatotKaca!', Jawabannya Sukses Hibur Netizen\", 'Bolehkan Menggabungkan Niat Puasa Asyura dengan Puasa Senin-Kamis? Begini Penjelasan Buya Yahya', 'Kecelakaan Tragis antara Mobil Xpander dan Kereta Api Terulang Lagi, Empat Orang Tak Selamat', '25 Link Twibbon Hari Kemerdekaan RI atau 17 Agustus 2022, Pas Buat Status Facebook, WhatsApp dan Instagram', 'Dunia Berkabung, Pengusaha Agrikultur ‘Raksasa’ Ukraina Tewas dalam Serangan Rudal Rusia', 'Link Download WA GB Update Agustus 2022, WhatsApp GB Versi Terbaru Tanpa Takut Banned', 'Sinopsis Prey, Film Kelima dari Waralaba Predator yang Sajikan Teror Berbalut Fiksi Ilmiah']\n"
     ]
    }
   ],
   "source": [
    "# print for check whether the data have been correctly assign to the list\n",
    "print(populer_artikel)"
   ]
  },
  {
   "cell_type": "code",
   "execution_count": 5,
   "metadata": {},
   "outputs": [],
   "source": [
    "# create a dataframe for convert the data to .csv file\n",
    "df = pd.DataFrame({\"Berita Populer\":populer_artikel})\n",
    "df.to_csv('Berita Terpopuler.csv', index=False, encoding='utf-8')"
   ]
  }
 ],
 "metadata": {
  "kernelspec": {
   "display_name": "Python 3",
   "language": "python",
   "name": "python3"
  },
  "language_info": {
   "codemirror_mode": {
    "name": "ipython",
    "version": 3
   },
   "file_extension": ".py",
   "mimetype": "text/x-python",
   "name": "python",
   "nbconvert_exporter": "python",
   "pygments_lexer": "ipython3",
   "version": "3.7.4"
  }
 },
 "nbformat": 4,
 "nbformat_minor": 2
}
